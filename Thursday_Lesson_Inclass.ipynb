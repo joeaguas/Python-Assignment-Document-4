{
 "cells": [
  {
   "cell_type": "markdown",
   "metadata": {
    "id": "am7J486d1Ray"
   },
   "source": [
    "# Object-Oriented-Programming (OOP)"
   ]
  },
  {
   "cell_type": "markdown",
   "metadata": {
    "id": "fQCL6xW81Ra4"
   },
   "source": [
    "## Tasks Today:\n",
    "\n",
    "   \n",
    "\n",
    "1) <b>Creating a Class (Initializing/Declaring)</b> <br>\n",
    "2) <b>Using a Class (Instantiating)</b> <br>\n",
    " &nbsp;&nbsp;&nbsp;&nbsp; a) Creating One Instance <br>\n",
    " &nbsp;&nbsp;&nbsp;&nbsp; b) Creating Multiple Instances <br>\n",
    " &nbsp;&nbsp;&nbsp;&nbsp; c) In-Class Exercise #1 - Create a Class 'Car' and instantiate three different makes of cars <br>\n",
    "3) <b>The \\__init\\__() Method</b> <br>\n",
    " &nbsp;&nbsp;&nbsp;&nbsp; a) The 'self' Attribute <br>\n",
    "4) <b>Class Attributes</b> <br>\n",
    " &nbsp;&nbsp;&nbsp;&nbsp; a) Initializing Attributes <br>\n",
    " &nbsp;&nbsp;&nbsp;&nbsp; b) Setting an Attribute Outside of the \\__init\\__() Method <br>\n",
    " &nbsp;&nbsp;&nbsp;&nbsp; c) Setting Defaults for Attributes <br>\n",
    " &nbsp;&nbsp;&nbsp;&nbsp; d) Accessing Class Attributes <br>\n",
    " &nbsp;&nbsp;&nbsp;&nbsp; e) Changing Class Attributes <br>\n",
    " &nbsp;&nbsp;&nbsp;&nbsp; f) In-Class Exercise #2 - Add a color and wheels attribute to your 'Car' class <br>\n",
    "5) <b>Class Methods</b> <br>\n",
    " &nbsp;&nbsp;&nbsp;&nbsp; a) Creating <br>\n",
    " &nbsp;&nbsp;&nbsp;&nbsp; b) Calling <br>\n",
    " &nbsp;&nbsp;&nbsp;&nbsp; c) Modifying an Attribute's Value Through a Method <br>\n",
    " &nbsp;&nbsp;&nbsp;&nbsp; d) Incrementing an Attribute's Value Through a Method <br>\n",
    " &nbsp;&nbsp;&nbsp;&nbsp; e) In-Class Exercise #3 - Add a method that prints the cars color and wheel number, then call them <br>\n",
    "6) <b>Inheritance</b> <br>\n",
    " &nbsp;&nbsp;&nbsp;&nbsp; a) Syntax for Inheriting from a Parent Class <br>\n",
    " &nbsp;&nbsp;&nbsp;&nbsp; b) The \\__init\\__() Method for a Child Class (super()) <br>\n",
    " &nbsp;&nbsp;&nbsp;&nbsp; c) Defining Attributes and Methods for the Child Class <br>\n",
    " &nbsp;&nbsp;&nbsp;&nbsp; d) Method Overriding <br>\n",
    " &nbsp;&nbsp;&nbsp;&nbsp; e) In-Class Exercise #4 - Create a class 'Ford' that inherits from 'Car' class and initialize it as a Blue Ford Explorer with 4 wheels using the super() method <br>\n",
    "7) <b>Classes as Attributes</b> <br>\n",
    "8) <b>Exercises</b> <br>\n",
    " &nbsp;&nbsp;&nbsp;&nbsp; a) Exercise #1 - Turn the shopping cart program from yesterday into an object-oriented program <br>"
   ]
  },
  {
   "cell_type": "markdown",
   "metadata": {
    "id": "S_6S0Y7p1RbA"
   },
   "source": [
    "## Creating a Class (Initializing/Declaring)\n",
    "<p>When creating a class, function, or even a variable you are initializing that object. Initializing and Declaring occur at the same time in Python, whereas in lower level languages you have to declare an object before initializing it. This is the first step in the process of using a class.</p>"
   ]
  },
  {
   "cell_type": "code",
   "execution_count": 10,
   "metadata": {
    "id": "UQJBEU3o1RbC"
   },
   "outputs": [],
   "source": [
    "class Car():\n",
    "    wheels = 4\n",
    "    color = 'blue'"
   ]
  },
  {
   "cell_type": "markdown",
   "metadata": {
    "id": "QYu8q0TB1RbF"
   },
   "source": [
    "## Using a Class (Instantiating)\n",
    "<p>The process of creating a class is called <i>Instantiating</i>. Each time you create a variable of that type of class, it is referred to as an <i>Instance</i> of that class. This is the second step in the process of using a class.</p>"
   ]
  },
  {
   "cell_type": "markdown",
   "metadata": {
    "id": "bfyST6dH1RbI"
   },
   "source": [
    "##### Creating One Instance"
   ]
  },
  {
   "cell_type": "code",
   "execution_count": 11,
   "metadata": {
    "colab": {
     "base_uri": "https://localhost:8080/"
    },
    "id": "5Zp7z4z01RbK",
    "outputId": "5f74badd-a072-49de-f98c-b2ecab5c5c80"
   },
   "outputs": [
    {
     "name": "stdout",
     "output_type": "stream",
     "text": [
      "blue\n",
      "4\n"
     ]
    }
   ],
   "source": [
    "ford = Car()\n",
    "#making an instance of a car, instantiating\n",
    "print(ford.color)\n",
    "print(ford.wheels)"
   ]
  },
  {
   "cell_type": "markdown",
   "metadata": {
    "id": "vk2-kPcf1RbM"
   },
   "source": [
    "##### Creating Multiple Instances"
   ]
  },
  {
   "cell_type": "code",
   "execution_count": 12,
   "metadata": {
    "colab": {
     "base_uri": "https://localhost:8080/"
    },
    "id": "QWP6U-Z61RbO",
    "outputId": "7d8606c9-71b3-4905-fee5-708970ed3233"
   },
   "outputs": [
    {
     "name": "stdout",
     "output_type": "stream",
     "text": [
      "<class 'str'>\n"
     ]
    }
   ],
   "source": [
    "chevy = Car()\n",
    "honda = Car()\n",
    "porsche = Car()\n",
    "\n",
    "print(type(porsche.color))\n",
    "#print(porsche.bumper) DOESNT WORK BC WE HAVE NO BUMPER ATTRIBUTE\n",
    "#classes are capitalized to say its a Class not a function"
   ]
  },
  {
   "cell_type": "markdown",
   "metadata": {
    "id": "VsIcatkR1RbR"
   },
   "source": [
    "##### In-Class Exercise #1 - Create a Class 'Car' and Instantiate three different makes of cars"
   ]
  },
  {
   "cell_type": "code",
   "execution_count": 13,
   "metadata": {
    "id": "6UC7MCUX1RbT"
   },
   "outputs": [],
   "source": [
    "class Car():\n",
    "  wheels = 4\n",
    "  engine = 1\n",
    "  name = \"lightning mcqueen\"\n",
    "\n",
    "red_car = Car()\n",
    "fast_car = Car()\n",
    "race_car = Car()\n",
    "#oh no i made 3 instances of lightning mcqueen"
   ]
  },
  {
   "cell_type": "markdown",
   "metadata": {
    "id": "BkDKF0AW1RbV"
   },
   "source": [
    "## The \\__init\\__() Method <br>\n",
    "<p>This method is used in almost every created class, and called only once upon the creation of the class instance. This method will initialize all variables needed for the object.</p>"
   ]
  },
  {
   "cell_type": "code",
   "execution_count": 16,
   "metadata": {
    "colab": {
     "base_uri": "https://localhost:8080/"
    },
    "id": "Y-JY_4S31RbW",
    "outputId": "bce94bdd-1cbf-466f-fbad-bbbdf316ca5a"
   },
   "outputs": [
    {
     "name": "stdout",
     "output_type": "stream",
     "text": [
      "4\n",
      "6\n"
     ]
    }
   ],
   "source": [
    "# called only once and automatically called when the class is created\n",
    "# initalizes all the variables you will need\n",
    "# two underscores on each side, called dunder (double under)\n",
    "\n",
    "class Car():\n",
    "  engine = \"4.7L\" # constant attribute\n",
    "\n",
    "  def __init__(self, wheels, color):\n",
    "    self.wheels = wheels\n",
    "    self.color = color\n",
    "  \n",
    "ford = Car(4, \"red\")\n",
    "chevy = Car(6, \"black\")\n",
    "\n",
    "print(ford.wheels)\n",
    "print(chevy.wheels)"
   ]
  },
  {
   "cell_type": "markdown",
   "metadata": {
    "id": "bf6plCqm1RbY"
   },
   "source": [
    "##### The 'self' Attribute <br>\n",
    "<p>This attribute is required to keep track of specific instance's attributes. Without the self attribute, the program would not know how to reference or keep track of an instance's attributes.</p>"
   ]
  },
  {
   "cell_type": "code",
   "execution_count": null,
   "metadata": {
    "id": "IN6ko7PQ1Rba"
   },
   "outputs": [],
   "source": [
    "# see above\n",
    "# looking at the pseudo code\n",
    "# \"single source of truth\" (to google) (in relation to control function)\n",
    "# TBD will revisit\n"
   ]
  },
  {
   "cell_type": "markdown",
   "metadata": {
    "id": "9oYQIGMX1Rbb"
   },
   "source": [
    "## Class Attributes <br>\n",
    "<p>While variables are inside of a class, they are referred to as attributes and not variables. When someone says 'attribute' you know they're speaking about a class. Attributes can be initialized through the init method, or outside of it.</p>"
   ]
  },
  {
   "cell_type": "markdown",
   "metadata": {
    "id": "7eKM4eWt1Rbc"
   },
   "source": [
    "##### Initializing Attributes"
   ]
  },
  {
   "cell_type": "code",
   "execution_count": 20,
   "metadata": {
    "id": "EofiHub01Rbe"
   },
   "outputs": [],
   "source": [
    "# see above\n",
    "\n",
    "class Toy():\n",
    "  kind = 'car' # constant, doesnt change\n",
    "\n",
    "  def __init__(self, rooftop, horn, wheels = 4):\n",
    "    self.rooftop = rooftop\n",
    "    self.horn = horn\n",
    "    self.wheels = wheels #not likely to change\n",
    "\n",
    "tonka_truck = Toy(1,1,4) \n",
    "hotwheels_car = Toy(2, 3, 8)"
   ]
  },
  {
   "cell_type": "markdown",
   "metadata": {
    "id": "WLAKnFCK1Rbg"
   },
   "source": [
    "##### Accessing Class Attributes"
   ]
  },
  {
   "cell_type": "code",
   "execution_count": 19,
   "metadata": {
    "colab": {
     "base_uri": "https://localhost:8080/"
    },
    "id": "AbaEkMia1Rbh",
    "outputId": "36d45617-6927-4422-e74e-2bc8bd2e802e",
    "scrolled": true
   },
   "outputs": [
    {
     "name": "stdout",
     "output_type": "stream",
     "text": [
      "1\n",
      "8\n"
     ]
    }
   ],
   "source": [
    "# See Above\n",
    "print(tonka_truck.horn)\n",
    "print(hotwheels_car.wheels)"
   ]
  },
  {
   "cell_type": "markdown",
   "metadata": {
    "id": "oEr7Sz9v1Rbj"
   },
   "source": [
    "##### Setting Defaults for Attributes"
   ]
  },
  {
   "cell_type": "code",
   "execution_count": 23,
   "metadata": {
    "colab": {
     "base_uri": "https://localhost:8080/"
    },
    "id": "s32dQEEx1Rbk",
    "outputId": "36b7f0e7-769b-4d47-9c57-adf17ab3f0bf"
   },
   "outputs": [
    {
     "name": "stdout",
     "output_type": "stream",
     "text": [
      "blue\n",
      "4\n",
      "5.4L\n"
     ]
    }
   ],
   "source": [
    "#see wheels in Toy above or below\n",
    "\n",
    "class Car():\n",
    "  engine = \"4.7L\" # can overwrite\n",
    "\n",
    "  def __init__(self, wheels):\n",
    "    self.wheels = wheels\n",
    "    self.color = 'blue' # cannot overwrite\n",
    "\n",
    "honda = Car(4)\n",
    "print(honda.color)\n",
    "print(honda.wheels)\n",
    "honda.engine = '5.4L' #question for the culture what does 5.4L mean?? idk cars\n",
    "print(honda.engine)"
   ]
  },
  {
   "cell_type": "markdown",
   "metadata": {
    "id": "E9YdHOP11Rbk"
   },
   "source": [
    "##### Changing Class Attributes <br>\n",
    "<p>Keep in mind there are global class attributes and then there are attributes only available to each class instance which won't effect other classes.</p>"
   ]
  },
  {
   "cell_type": "code",
   "execution_count": null,
   "metadata": {
    "id": "V-VOBbaM1Rbl"
   },
   "outputs": [],
   "source": [
    "#see above"
   ]
  },
  {
   "cell_type": "markdown",
   "metadata": {
    "id": "JfnlV0jw1Rbn"
   },
   "source": [
    "##### In-Class Exercise #2 - Add a doors and seats attribute to your 'Car' class then print out two different instances with different doors and seats"
   ]
  },
  {
   "cell_type": "code",
   "execution_count": 26,
   "metadata": {
    "colab": {
     "base_uri": "https://localhost:8080/"
    },
    "id": "rXkMTPnZ1Rbo",
    "outputId": "444cd8c0-0216-46d2-db0d-23732ebcad1b"
   },
   "outputs": [
    {
     "name": "stdout",
     "output_type": "stream",
     "text": [
      "5\n",
      "4\n",
      "8\n",
      "4\n"
     ]
    }
   ],
   "source": [
    "class Car():\n",
    "\n",
    "  def __init__(self, wheels, color, doors, seats):\n",
    "    self.wheels = wheels\n",
    "    self.color = color\n",
    "    self.doors = doors\n",
    "    self.seats = seats\n",
    "\n",
    "my_car = Car(4, 'silver', 4, 5)\n",
    "my_roommates_car = Car(4, 'red', 4, 8)\n",
    "\n",
    "print(my_car.seats)\n",
    "print(my_car.doors)\n",
    "print(my_roommates_car.seats)\n",
    "print(my_roommates_car.doors)"
   ]
  },
  {
   "cell_type": "markdown",
   "metadata": {
    "id": "Nspeg9zj1Rbo"
   },
   "source": [
    "## Class Methods <br>\n",
    "<p>While inside of a class, functions are referred to as 'methods'. If you hear someone mention methods, they're speaking about classes. Methods are essentially functions, but only callable on the instances of a class.</p>"
   ]
  },
  {
   "cell_type": "markdown",
   "metadata": {
    "id": "P16HD1io1Rbp"
   },
   "source": [
    "##### Creating"
   ]
  },
  {
   "cell_type": "code",
   "execution_count": 33,
   "metadata": {
    "id": "xBzCDJ2t1Rbq"
   },
   "outputs": [],
   "source": [
    "class ShoppingBag():\n",
    "    \"\"\"\n",
    "    The ShoppingBag class will have handles, capacity, \n",
    "    and items to place inside.\n",
    "    \n",
    "    Attributes for the class:\n",
    "    - handles: expected to be an integer\n",
    "    - capacity: expected to be an integer\n",
    "    - items: expected to be a list\n",
    "    \"\"\"\n",
    "    \n",
    "    def __init__(self,handles, items = [], capacity = 10):\n",
    "        self.handles = handles\n",
    "        self.items = items\n",
    "        self.capacity = capacity\n",
    "        \n",
    "    def show_ShoppingBag(self):\n",
    "        if len(self.items) == 0:\n",
    "            print(\"Your bag is empty!\")\n",
    "        else:\n",
    "            print(\"You have items in your bag!\")\n",
    "            for item in self.items:\n",
    "            #self.items pulls the items value down from the cloud\n",
    "                print(item)\n",
    "    \n",
    "    def show_capacity(self): \n",
    "        print(f'Your remaining capacity is: {self.capacity-len(self.items)}') \n",
    "        \n",
    "    def add_to_ShoppingBag(self):\n",
    "        if len(self.items) == self.capacity:\n",
    "            print(\"You have no room\")\n",
    "        else:\n",
    "            product = input('What would you like to add? ')\n",
    "            self.items.append(product)\n",
    "  \n",
    "    def show_handles(self):\n",
    "        print(f'You have {self.handles} handles on your bag')"
   ]
  },
  {
   "cell_type": "markdown",
   "metadata": {
    "id": "E95l2ML31Rbr"
   },
   "source": [
    "##### Calling"
   ]
  },
  {
   "cell_type": "code",
   "execution_count": 35,
   "metadata": {
    "colab": {
     "base_uri": "https://localhost:8080/"
    },
    "id": "Kwu6sP4A1Rbr",
    "outputId": "0169839a-bc57-4ee3-9258-f3ea733567e5"
   },
   "outputs": [
    {
     "name": "stdout",
     "output_type": "stream",
     "text": [
      "\n",
      "What would you like to do?\n",
      "You may:\n",
      "- Add\n",
      "- Show\n",
      "- Quit\n",
      "quit\n",
      "You have items in your bag!\n",
      "grapes\n",
      "cheese\n",
      "bread\n",
      "Thanks for shopping\n"
     ]
    }
   ],
   "source": [
    "# See Above\n",
    "\n",
    "whole_foods_bag = ShoppingBag(2)\n",
    "\n",
    "def run():\n",
    "    while True:\n",
    "        response = input(\"\\nWhat would you like to do?\\nYou may:\\n- Add\\n- Show\\n- Quit\\n\")\n",
    "        if response.lower() == 'quit':\n",
    "            whole_foods_bag.show_ShoppingBag()\n",
    "            print(\"Thanks for shopping\")\n",
    "            break\n",
    "        elif response.lower() == 'add':\n",
    "            whole_foods_bag.add_to_ShoppingBag()\n",
    "        elif response.lower() == 'show':\n",
    "            show_choice = input(\"What would you like to see:\\n- Capacity\\n- Handles\\n- Shopping Bag\\n\")\n",
    "            if show_choice.lower() == 'capacity':\n",
    "                whole_foods_bag.show_capacity()\n",
    "            elif show_choice.lower() == 'handles':\n",
    "                whole_foods_bag.show_handles()\n",
    "            else:\n",
    "                whole_foods_bag.show_ShoppingBag()\n",
    "        else:\n",
    "            print('Did not recognize option, please enter add, show, or quit.')\n",
    "\n",
    "run()"
   ]
  },
  {
   "cell_type": "markdown",
   "metadata": {
    "id": "C7GwPzPp1Rbt"
   },
   "source": [
    "##### Modifying an Attribute's Value Through a Method"
   ]
  },
  {
   "cell_type": "code",
   "execution_count": null,
   "metadata": {
    "id": "uIwQlTe11Rbu"
   },
   "outputs": [],
   "source": []
  },
  {
   "cell_type": "markdown",
   "metadata": {
    "id": "eA34EOsR1Rbw"
   },
   "source": [
    "##### Incrementing an Attribute's Value Through a Method"
   ]
  },
  {
   "cell_type": "code",
   "execution_count": null,
   "metadata": {
    "id": "6j54LclG1Rbx"
   },
   "outputs": [],
   "source": []
  },
  {
   "cell_type": "markdown",
   "metadata": {
    "id": "O6TS0rjo1Rby"
   },
   "source": [
    "##### In-Class Exercise #3 - Add a method that takes in three parameters of year, doors and seats and prints out a formatted print statement with make, model, year, seats, and doors"
   ]
  },
  {
   "cell_type": "code",
   "execution_count": 3,
   "metadata": {
    "id": "OWBNbzSr1Rbz"
   },
   "outputs": [
    {
     "name": "stdout",
     "output_type": "stream",
     "text": [
      "This car is a 2018 Subaru Crosstrek, that has 4 doors and 5 seats\n",
      "This car is a 2010 Nissan Altima, that has 4 doors and 5 seats\n"
     ]
    }
   ],
   "source": [
    "# TODO\n",
    "# Create class with 2 paramters inside of the __init__ which are make and model\n",
    "\n",
    "# Inside of the Car class create a method that has 4 parameter in total (self,year,door,seats)\n",
    "\n",
    "# Output: This car is from 2019 and is a Ford Expolorer and has 4 doors and 5 seats\n",
    "\n",
    "class Car():\n",
    "    \"\"\"\n",
    "    The Car class will have a make, model, \n",
    "    and have methods about cars.\n",
    "    \n",
    "    Attributes for the class:\n",
    "    - make: expected to be a string\n",
    "    - model: expected to be an string\n",
    "    \"\"\"\n",
    "    \n",
    "    def __init__(self, make, model):\n",
    "        self.make = make\n",
    "        self.model = model\n",
    "    \n",
    "    def what_kind_of_car(self, year, doors, seats):\n",
    "        print(f\"This car is a {year} {self.make.title()} {self.model.title()}, that has {doors} doors and {seats} seats\")\n",
    "        \n",
    "\n",
    "        \n",
    "my_car = Car('subaru', 'crosstrek')\n",
    "my_roommates_car = Car('nissan', 'altima')\n",
    "\n",
    "my_car.what_kind_of_car(2018, 4, 5)\n",
    "my_roommates_car.what_kind_of_car(2010, 4, 5)"
   ]
  },
  {
   "cell_type": "markdown",
   "metadata": {
    "id": "XIpHk8zA1Rb1"
   },
   "source": [
    "## Inheritance <br>\n",
    "<p>You can create a child-parent relationship between two classes by using inheritance. What this allows you to do is have overriding methods, but also inherit traits from the parent class. Think of it as an actual parent and child, the child will inherit the parent's genes, as will the classes in OOP</p>"
   ]
  },
  {
   "cell_type": "markdown",
   "metadata": {
    "id": "q_Ia4Wk01Rb2"
   },
   "source": [
    "##### Syntax for Inheriting from a Parent Class"
   ]
  },
  {
   "cell_type": "code",
   "execution_count": null,
   "metadata": {
    "id": "Wg2XT0jC1Rb4"
   },
   "outputs": [],
   "source": []
  },
  {
   "cell_type": "markdown",
   "metadata": {
    "id": "unl5QGai1Rb5"
   },
   "source": [
    "##### The \\__init\\__() Method for a Child Class - super()"
   ]
  },
  {
   "cell_type": "code",
   "execution_count": null,
   "metadata": {
    "id": "vaqnESdu1Rb7",
    "scrolled": true
   },
   "outputs": [],
   "source": []
  },
  {
   "cell_type": "markdown",
   "metadata": {
    "id": "fxjLea0r1Rb8"
   },
   "source": [
    "##### Defining Attributes and Methods for the Child Class"
   ]
  },
  {
   "cell_type": "code",
   "execution_count": null,
   "metadata": {
    "id": "8KMf2ctV1Rb_"
   },
   "outputs": [],
   "source": [
    "# See Above"
   ]
  },
  {
   "cell_type": "markdown",
   "metadata": {
    "id": "ySJByuYe1RcB"
   },
   "source": [
    "##### Method Overriding"
   ]
  },
  {
   "cell_type": "code",
   "execution_count": null,
   "metadata": {
    "id": "YisILu5n1RcD"
   },
   "outputs": [],
   "source": [
    "# See Above"
   ]
  },
  {
   "cell_type": "markdown",
   "metadata": {
    "id": "u1Y-p6Cm1RcE"
   },
   "source": [
    "## Classes as Attributes <br>\n",
    "<p>Classes can also be used as attributes within another class. This is useful in situations where you need to keep variables locally stored, instead of globally stored.</p>"
   ]
  },
  {
   "cell_type": "code",
   "execution_count": null,
   "metadata": {
    "id": "wj4gclI61RcF"
   },
   "outputs": [],
   "source": []
  },
  {
   "cell_type": "markdown",
   "metadata": {
    "id": "HutzyOyC1RcG"
   },
   "source": [
    "# Exercises"
   ]
  },
  {
   "cell_type": "markdown",
   "metadata": {
    "id": "B-PvDKkL1RcH"
   },
   "source": [
    "### Exercise 1 - Turn the shopping cart program from yesterday into an object-oriented program\n",
    "\n",
    "The comments in the cell below are there as a guide for thinking about the problem. However, if you feel a different way is best for you and your own thought process, please do what feels best for you by all means."
   ]
  },
  {
   "cell_type": "code",
   "execution_count": 12,
   "metadata": {
    "id": "-VYfii371RcH"
   },
   "outputs": [
    {
     "name": "stdout",
     "output_type": "stream",
     "text": [
      "Here is your final cart!\n",
      "[]\n"
     ]
    }
   ],
   "source": [
    "from IPython.display import clear_output\n",
    "\n",
    "class ShoppingCart():\n",
    "    \"\"\"\n",
    "    The ShoppingCart class will have capacity\n",
    "    and items to place inside.\n",
    "    \n",
    "    Attributes for the class:\n",
    "    - capacity: expected to be an integer\n",
    "    - items: expected to be a list\n",
    "    \n",
    "    Methods for the class:\n",
    "    - show_ShoppingCart: prints the cart list\n",
    "    - add_to_ShoppingCart: takes user input and adds to the cart \n",
    "    list and reduces capacity by 1\n",
    "    - remove_from_ShoppingCart: takes user input and removes from\n",
    "    the cart list and increases capacity by 1\n",
    "    \"\"\"\n",
    "    \n",
    "    def __init__(self, items = [], capacity = 10):\n",
    "        self.items = items\n",
    "        self.capacity = capacity\n",
    "        \n",
    "    def show_ShoppingCart(self):\n",
    "        if len(self.items) == 0:\n",
    "            print(\"You have nothing in your cart\")\n",
    "        else:\n",
    "            print(\"Here is what is in your cart\")\n",
    "            for item in self.items:\n",
    "                print(item)\n",
    "        \n",
    "    def add_to_ShoppingCart(self):\n",
    "        if len(self.items) == self.capacity:\n",
    "            print(\"You have no room in your cart\")\n",
    "        else:\n",
    "            product = input('What would you like to add to your cart? ')\n",
    "            self.items.append(product)\n",
    "            \n",
    "    def remove_from_ShoppingCart(self):\n",
    "        if len(self.items) == 0:\n",
    "            print(\"You have nothing in your cart\")\n",
    "        else:\n",
    "            remove_item = input(\"What would you like to remove from your cart? \")\n",
    "            self.items.remove(remove_item)\n",
    "            print(f\"You have removed {remove_item} from your cart here is your new cart:\\n{self.items}\")\n",
    "            \n",
    "    def show_capacity(self): \n",
    "        print(f'Your remaining capacity is: {self.capacity-len(self.items)}') \n",
    "        \n",
    "\n",
    "def go_shopping():\n",
    "    \"\"\"\n",
    "    Make and navigate a ShoppingCart menu.\n",
    "    \n",
    "    Takes user input to navigate a shopping cart menu, the\n",
    "    options are show, add, delete, or quit. \n",
    "    - Show: asks user if they want to see the cart list\n",
    "    or capacity then shows it using ShoppingCart methods\n",
    "    - Add Item: runs ShoppingCart method add_to_ShoppingCart\n",
    "    - Delete Item: runs ShoppningCart method remove_from_ShoppingCart\n",
    "    - Quit: ends program and prints list\n",
    "    \"\"\"\n",
    "    clear_output()\n",
    "    print(\"Welcome to your cart!\")\n",
    "    cart = ShoppingCart()\n",
    "    while True:\n",
    "        menu_choice = input(\"Do you want to:\\n- Show\\n- Add Item\\n- Delete Item\\n- Quit\\n\")\n",
    "        if menu_choice.lower() == 'quit':\n",
    "            clear_output()\n",
    "            break\n",
    "        elif menu_choice.lower() == 'show':\n",
    "            show_choice = input(\"Would you like to see your cart or capacity? \")\n",
    "            if show_choice.lower() == 'cart':\n",
    "                cart.show_ShoppingCart()\n",
    "            elif show_choice.lower() == 'capacity':\n",
    "                cart.show_capacity()\n",
    "        elif menu_choice.lower() == 'add item':\n",
    "            cart.add_to_ShoppingCart()\n",
    "        elif menu_choice.lower() == 'delete item':\n",
    "            cart.remove_from_ShoppingCart()\n",
    "        else:\n",
    "            clear_output()\n",
    "            print(\"I do not recognize that option, please try again!\")\n",
    "        \n",
    "    print(\"Here is your final cart!\")\n",
    "    print(cart.items)\n",
    "\n",
    "go_shopping()"
   ]
  },
  {
   "cell_type": "markdown",
   "metadata": {
    "id": "4C0_tRfN1RcI"
   },
   "source": [
    "### Exercise 2 - Write a Python class which has two methods get_String and print_String. get_String accept a string from the user and print_String print the string in upper case"
   ]
  },
  {
   "cell_type": "code",
   "execution_count": 14,
   "metadata": {
    "id": "EM4BrIJt1RcJ"
   },
   "outputs": [
    {
     "name": "stdout",
     "output_type": "stream",
     "text": [
      "Give me a string to holdworms\n",
      "WORMS\n"
     ]
    }
   ],
   "source": [
    "class StringHolder():\n",
    "    \"\"\"\n",
    "    The StringHolder class will take in .\n",
    "    \n",
    "    Attributes for the class:\n",
    "    - held_String: expected to be a string\n",
    "    \n",
    "    Methods for the class:\n",
    "    - get_String: accepts a string from the user\n",
    "    - print_String: prints the string in upper case\n",
    "    \"\"\"\n",
    "    \n",
    "    def __init__(self, held_string = \"\"):\n",
    "        self.held_string = held_string\n",
    "        \n",
    "    def get_String(self):\n",
    "        the_string = input(\"Give me a string to hold\")\n",
    "        self.held_string = the_string\n",
    "    \n",
    "    def print_String(self):\n",
    "        print(self.held_string.upper())\n",
    "\n",
    "test_StringHolder = StringHolder()\n",
    "\n",
    "test_StringHolder.get_String()\n",
    "test_StringHolder.print_String()\n",
    "        "
   ]
  }
 ],
 "metadata": {
  "colab": {
   "provenance": []
  },
  "kernelspec": {
   "display_name": "Python 3 (ipykernel)",
   "language": "python",
   "name": "python3"
  },
  "language_info": {
   "codemirror_mode": {
    "name": "ipython",
    "version": 3
   },
   "file_extension": ".py",
   "mimetype": "text/x-python",
   "name": "python",
   "nbconvert_exporter": "python",
   "pygments_lexer": "ipython3",
   "version": "3.9.12"
  }
 },
 "nbformat": 4,
 "nbformat_minor": 1
}
